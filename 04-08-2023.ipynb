{
 "cells": [
  {
   "cell_type": "code",
   "execution_count": null,
   "metadata": {},
   "outputs": [
    {
     "name": "stdout",
     "output_type": "stream",
     "text": [
      "5*1 = 5\n",
      "5*2 = 10\n",
      "5*3 = 15\n",
      "5*4 = 20\n",
      "5*5 = 25\n",
      "5*6 = 30\n",
      "5*7 = 35\n",
      "5*8 = 40\n",
      "5*9 = 45\n",
      "5*10 = 50\n"
     ]
    }
   ],
   "source": [
    "number = int(input(\"Enter your number\"))\n",
    "\n",
    "for a in range(1, 11):\n",
    "    print(f\"{number}*{a} = {number*a}\")\n"
   ]
  },
  {
   "cell_type": "code",
   "execution_count": null,
   "metadata": {},
   "outputs": [
    {
     "name": "stdout",
     "output_type": "stream",
     "text": [
      "umer is the great\n",
      "umer is the hero\n",
      "umer is the warrior\n",
      "usman is the great\n",
      "usman is the hero\n",
      "usman is the warrior\n",
      "amir is the great\n",
      "amir is the hero\n",
      "amir is the warrior\n"
     ]
    }
   ],
   "source": [
    "names = ['umer', 'usman', 'amir']\n",
    "tags= ['the great', 'the hero', 'the warrior']\n",
    "\n",
    "for name in names:\n",
    "    for tag in tags:\n",
    "        print(f\"{name} is {tag}\")"
   ]
  },
  {
   "cell_type": "code",
   "execution_count": null,
   "metadata": {},
   "outputs": [
    {
     "name": "stdout",
     "output_type": "stream",
     "text": [
      "4*1 = 4\n",
      "4*2 = 8\n",
      "4*3 = 12\n",
      "4*4 = 16\n",
      "4*5 = 20\n",
      "4*6 = 24\n",
      "4*7 = 28\n",
      "4*8 = 32\n",
      "4*9 = 36\n",
      "4*10 = 40\n",
      "--------------------------------\n",
      "6*1 = 6\n",
      "6*2 = 12\n",
      "6*3 = 18\n",
      "6*4 = 24\n",
      "6*5 = 30\n",
      "6*6 = 36\n",
      "6*7 = 42\n",
      "6*8 = 48\n",
      "6*9 = 54\n",
      "6*10 = 60\n",
      "--------------------------------\n",
      "8*1 = 8\n",
      "8*2 = 16\n",
      "8*3 = 24\n",
      "8*4 = 32\n",
      "8*5 = 40\n",
      "8*6 = 48\n",
      "8*7 = 56\n",
      "8*8 = 64\n",
      "8*9 = 72\n",
      "8*10 = 80\n",
      "--------------------------------\n"
     ]
    }
   ],
   "source": [
    "table_numbers = input (\"Enter your numbers\").split(',')\n",
    "for number in table_numbers:\n",
    "    for a in range(1, 11):\n",
    "        print(f\"{number}*{a} = {int(number)*a}\")\n",
    "    \n",
    "    print(\"--------------------------------\")\n",
    "\n"
   ]
  },
  {
   "cell_type": "code",
   "execution_count": null,
   "metadata": {},
   "outputs": [],
   "source": [
    "paragraph= input(\"Enter your paragraph\")\n",
    "\n",
    "vowels= ['a','e','i','o','u']\n",
    "for letter in paragraph:\n",
    "    if letter in vowels:\n",
    "        print(f\" {letter} = {paragraph.count(letter)}\")\n",
    "    \n",
    "\n",
    "\n"
   ]
  },
  {
   "cell_type": "code",
   "execution_count": null,
   "metadata": {},
   "outputs": [
    {
     "name": "stdout",
     "output_type": "stream",
     "text": [
      "0 umer\n",
      "1 usman\n",
      "2 amir\n",
      "3 ali\n",
      "4 hassan\n"
     ]
    }
   ],
   "source": [
    "guests= ['umer', 'usman', 'amir', 'ali', 'hassan']\n",
    "\n",
    "for i, guest in enumerate(guests):\n",
    "    print(i, guest)\n"
   ]
  },
  {
   "cell_type": "code",
   "execution_count": null,
   "metadata": {},
   "outputs": [
    {
     "name": "stdout",
     "output_type": "stream",
     "text": [
      "1\n",
      "2\n",
      "3\n",
      "4\n",
      "5\n"
     ]
    }
   ],
   "source": [
    "guests_dic= {1:'umer', 2:'usman', 3:'amir', 4:'ali', 5:'hassan'}\n",
    "for key in guests_dic.keys():\n",
    "    print(key)\n"
   ]
  },
  {
   "cell_type": "code",
   "execution_count": null,
   "metadata": {},
   "outputs": [
    {
     "name": "stdout",
     "output_type": "stream",
     "text": [
      "umer\n",
      "usman\n",
      "amir\n",
      "ali\n",
      "hassan\n"
     ]
    }
   ],
   "source": [
    "guests_dic= {1:'umer', 2:'usman', 3:'amir', 4:'ali', 5:'hassan'}\n",
    "for value in guests_dic.values():\n",
    "    print(value)"
   ]
  },
  {
   "cell_type": "code",
   "execution_count": null,
   "metadata": {},
   "outputs": [
    {
     "name": "stdout",
     "output_type": "stream",
     "text": [
      "1 umer\n",
      "2 usman\n",
      "3 amir\n",
      "4 ali\n",
      "5 hassan\n"
     ]
    }
   ],
   "source": [
    "guests_dic= {1:'umer', 2:'usman', 3:'amir', 4:'ali', 5:'hassan'}\n",
    "for k,v in guests_dic.items():\n",
    "    print(k, v)"
   ]
  },
  {
   "cell_type": "code",
   "execution_count": null,
   "metadata": {},
   "outputs": [
    {
     "name": "stdout",
     "output_type": "stream",
     "text": [
      "['ahmed', 'usman', 'khalid', 'yasir', 'fahad']\n"
     ]
    }
   ],
   "source": [
    "guests= []\n",
    "for a in range(5):\n",
    "    guests.append(input(\"Enter your name\"))\n",
    "print(guests)"
   ]
  },
  {
   "cell_type": "code",
   "execution_count": null,
   "metadata": {},
   "outputs": [
    {
     "name": "stdout",
     "output_type": "stream",
     "text": [
      "0 hello\n",
      "1 hello\n",
      "2 hello\n",
      "3 hello\n",
      "4 hello\n"
     ]
    }
   ],
   "source": [
    "counter=0\n",
    "while counter<5:\n",
    "    print(counter,\"hello\")\n",
    "    counter+=1"
   ]
  },
  {
   "cell_type": "code",
   "execution_count": null,
   "metadata": {},
   "outputs": [
    {
     "name": "stdout",
     "output_type": "stream",
     "text": [
      "5 hello\n",
      "4 hello\n",
      "3 hello\n",
      "2 hello\n",
      "1 hello\n"
     ]
    }
   ],
   "source": [
    "counter=5\n",
    "while counter>=1:\n",
    "    print(counter,\"hello\")\n",
    "    counter-=1"
   ]
  },
  {
   "cell_type": "code",
   "execution_count": null,
   "metadata": {},
   "outputs": [
    {
     "name": "stdout",
     "output_type": "stream",
     "text": [
      "['Ahmed', 'Usman', 'Hasan', 'Khalid']\n"
     ]
    }
   ],
   "source": [
    "guests= []\n",
    "\n",
    "while True:\n",
    "    guest= input(\"Enter your name or Q to quit: \")\n",
    "\n",
    "    if guest=='Q':\n",
    "        break\n",
    "    else:\n",
    "        guests.append(guest)\n",
    "\n",
    "print(guests)"
   ]
  },
  {
   "cell_type": "code",
   "execution_count": 76,
   "metadata": {},
   "outputs": [
    {
     "name": "stdout",
     "output_type": "stream",
     "text": [
      "rice added to cart\n",
      "['rice']\n",
      "Bill= 300\n",
      "oil added to cart\n",
      "['rice', 'oil']\n",
      "Bill= 950\n",
      "water added to cart\n",
      "['rice', 'oil', 'water']\n",
      "Bill= 1000\n",
      "Sorry, you can't order more than 1000\n",
      "Bill= 1000\n",
      "Sorry, you can't order more than 1000\n",
      "Bill= 1000\n",
      "Sorry, you can't order more than 1000\n",
      "Bill= 1000\n",
      "['rice', 'oil', 'water']\n",
      "Bill= 1000\n",
      "Thank you for visiting us\n",
      "['rice', 'oil', 'water']\n",
      "Bill= 1000\n",
      "Thank you for visiting us\n",
      "['rice', 'oil', 'water']\n",
      "Bill= 1000\n",
      "Thank you for visiting us\n",
      "['rice', 'oil', 'water']\n",
      "Bill= 1000\n",
      "Thank you for visiting us\n"
     ]
    }
   ],
   "source": [
    "store_items= {'rice':300, 'oil':650, 'water':50, 'biscuit': 50, 'cream':200}\n",
    "cart= []\n",
    "total_amount= 0\n",
    "\n",
    "while True:\n",
    "    order= input(\"Enter your favourite fruit: or Q to quit\").lower()\n",
    "    \n",
    "    if order!= \"q\":\n",
    "        if order in store_items.keys():\n",
    "\n",
    "            if (total_amount+store_items[order])<=1000:\n",
    "                cart.append(order)\n",
    "                total_amount+= store_items[order]\n",
    "                print(f\"{order} added to cart\")\n",
    "                print(cart)\n",
    "                print(f\"Bill= {total_amount}\")\n",
    "            else:\n",
    "                print(\"Sorry, you can't order more than 1000\")\n",
    "                print(f\"Bill= {total_amount}\")\n",
    "\n",
    "        else:\n",
    "            print(\"Sorry, we don't have that item\")\n",
    "            print(cart)\n",
    "            print(f\"Bill= {total_amount}\")\n",
    "            print(\"Thank you for visiting us\")\n",
    "\n",
    "    else:\n",
    "        print(cart)\n",
    "        print(f\"Bill= {total_amount}\")\n",
    "        print(\"Thank you for visiting us\")\n",
    "        break"
   ]
  },
  {
   "cell_type": "code",
   "execution_count": null,
   "metadata": {},
   "outputs": [],
   "source": []
  }
 ],
 "metadata": {
  "kernelspec": {
   "display_name": "Python 3",
   "language": "python",
   "name": "python3"
  },
  "language_info": {
   "codemirror_mode": {
    "name": "ipython",
    "version": 3
   },
   "file_extension": ".py",
   "mimetype": "text/x-python",
   "name": "python",
   "nbconvert_exporter": "python",
   "pygments_lexer": "ipython3",
   "version": "3.11.4"
  },
  "orig_nbformat": 4
 },
 "nbformat": 4,
 "nbformat_minor": 2
}
