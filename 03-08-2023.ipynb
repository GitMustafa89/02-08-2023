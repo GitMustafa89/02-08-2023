{
 "cells": [
  {
   "cell_type": "code",
   "execution_count": 2,
   "metadata": {},
   "outputs": [
    {
     "name": "stdout",
     "output_type": "stream",
     "text": [
      "You have consumed \n"
     ]
    }
   ],
   "source": [
    "print(\"You have consumed \")"
   ]
  },
  {
   "cell_type": "code",
   "execution_count": 3,
   "metadata": {},
   "outputs": [
    {
     "name": "stdout",
     "output_type": "stream",
     "text": [
      "You have consumed \n"
     ]
    }
   ],
   "source": [
    "print(\"You have consumed \")"
   ]
  },
  {
   "cell_type": "code",
   "execution_count": 4,
   "metadata": {},
   "outputs": [],
   "source": [
    "Salary = int(input(\"Enter your Salary\"))"
   ]
  },
  {
   "cell_type": "code",
   "execution_count": 7,
   "metadata": {},
   "outputs": [
    {
     "name": "stdout",
     "output_type": "stream",
     "text": [
      "600\n"
     ]
    }
   ],
   "source": [
    "print(Salary)"
   ]
  },
  {
   "cell_type": "code",
   "execution_count": 1,
   "metadata": {},
   "outputs": [
    {
     "name": "stdout",
     "output_type": "stream",
     "text": [
      "1000\n",
      "50.0\n",
      "1050.0\n",
      "6.0\n"
     ]
    }
   ],
   "source": [
    "Salary = int(input(\"Enter your Salary\"))\n",
    "Experience =  float(input(\"Enter your Experience\"))\n",
    "\n",
    "if Experience>5:\n",
    "    Bonus_Amount= Salary*0.05\n",
    "    \n",
    "elif Experience>10:\n",
    "    Bonus_Amount= Salary*0.10\n",
    "    \n",
    "elif Experience>15:\n",
    "    Bonus_Amount= Salary*0.15\n",
    "\n",
    "Salary_credited= Salary + Bonus_Amount\n",
    "print(Salary)\n",
    "print(Bonus_Amount)\n",
    "print(Salary_credited)\n",
    "print(Experience)"
   ]
  }
 ],
 "metadata": {
  "kernelspec": {
   "display_name": "Python 3",
   "language": "python",
   "name": "python3"
  },
  "language_info": {
   "codemirror_mode": {
    "name": "ipython",
    "version": 3
   },
   "file_extension": ".py",
   "mimetype": "text/x-python",
   "name": "python",
   "nbconvert_exporter": "python",
   "pygments_lexer": "ipython3",
   "version": "3.11.4"
  },
  "orig_nbformat": 4
 },
 "nbformat": 4,
 "nbformat_minor": 2
}
